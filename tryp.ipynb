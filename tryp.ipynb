{
 "cells": [
  {
   "cell_type": "code",
   "execution_count": null,
   "metadata": {},
   "outputs": [],
   "source": [
    "import matplotlib.pyplot as plt\n",
    "import numpy as np\n",
    "\n",
    "\n",
    "labels = [\"Xq\", \"Y1q\"]\n",
    "# Circle properties\n",
    "circle_radius = 1\n",
    "circle_center = (0, 0)  # Assuming the circle is centered at the origin\n",
    "\n",
    "# Coordinates of the 4 points and their labels\n",
    "points = [ (0.7,-0.3), (0.5,0.5)]\n",
    "\n",
    "# Create the circle\n",
    "theta = np.linspace(0, 2 * np.pi, 500)  # Parameter for the circle\n",
    "x_circle = circle_radius * np.cos(theta) + circle_center[0]\n",
    "y_circle = circle_radius * np.sin(theta) + circle_center[1]\n",
    "\n",
    "# Plot the circle\n",
    "plt.figure(figsize=(6, 6))\n",
    "plt.plot(x_circle, y_circle, label=\"Circle (Radius = 1)\", color=\"blue\")\n",
    "# Plot the points and add labels\n",
    "x_points, y_points = zip(*points)  # Extract x and y coordinates\n",
    "plt.scatter(x_points, y_points, color=\"red\", label=\"54-23\", zorder=5)\n",
    "\n",
    "# Add labels for the points\n",
    "for (x, y), label in zip(points, labels):\n",
    "    plt.text(x + 0.05, y + 0.05, label, fontsize=10, color=\"black\")\n",
    "\n",
    "# Additional plot details\n",
    "plt.axhline(0, color=\"gray\", linestyle=\"--\", linewidth=0.5)  # x-axis\n",
    "plt.axvline(0, color=\"gray\", linestyle=\"--\", linewidth=0.5)  # y-axis\n",
    "plt.gca().set_aspect('equal', adjustable='datalim')  # Equal aspect ratio\n",
    "plt.legend()\n",
    "plt.title(\"Circle and Points with Labels\")\n",
    "plt.xlabel(\"X\")\n",
    "plt.ylabel(\"Y\")\n",
    "\n",
    "# Show the plot\n",
    "plt.show()\n",
    "\n"
   ]
  }
 ],
 "metadata": {
  "kernelspec": {
   "display_name": ".venv",
   "language": "python",
   "name": "python3"
  },
  "language_info": {
   "codemirror_mode": {
    "name": "ipython",
    "version": 3
   },
   "file_extension": ".py",
   "mimetype": "text/x-python",
   "name": "python",
   "nbconvert_exporter": "python",
   "pygments_lexer": "ipython3",
   "version": "3.11.4"
  }
 },
 "nbformat": 4,
 "nbformat_minor": 2
}
